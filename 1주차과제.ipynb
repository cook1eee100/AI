{
  "nbformat": 4,
  "nbformat_minor": 0,
  "metadata": {
    "colab": {
      "name": "1주차과제.ipynb",
      "provenance": [],
      "authorship_tag": "ABX9TyP/J2brJJubM0LP4SeInVxQ",
      "include_colab_link": true
    },
    "kernelspec": {
      "name": "python3",
      "display_name": "Python 3"
    }
  },
  "cells": [
    {
      "cell_type": "markdown",
      "metadata": {
        "id": "view-in-github",
        "colab_type": "text"
      },
      "source": [
        "<a href=\"https://colab.research.google.com/github/cook1eee100/AI/blob/master/1%EC%A3%BC%EC%B0%A8%EA%B3%BC%EC%A0%9C.ipynb\" target=\"_parent\"><img src=\"https://colab.research.google.com/assets/colab-badge.svg\" alt=\"Open In Colab\"/></a>"
      ]
    },
    {
      "cell_type": "markdown",
      "metadata": {
        "id": "tYxviZcs_OmQ",
        "colab_type": "text"
      },
      "source": [
        "# **언어** \n",
        "**네이버 파파고 번역기**\n",
        "\n",
        "  NMT(neural machine translation) 인공지능 신경망 기반 기계번역이며 NMT 기술은 입력 문장을 문장벡터로 변환하는 신경망(encoder)과 문장벡터에서 번역하는 언어의 문장을 생성하는 신경망(decoder)를 대규모의 병렬 코퍼스부터 자동으로 학습한다. 입력문장의 일부가 아닌 문장 전체 정보를 바탕으로 번역을 수행하기 때문에 기존 SMT방식의 번역보다 더욱 정확하고 문장 맥락에 맞는 번역을 하는 것이 특징.\n",
        "\n"
      ]
    },
    {
      "cell_type": "markdown",
      "metadata": {
        "id": "VCJIco-rJ3Ta",
        "colab_type": "text"
      },
      "source": [
        "# **음성**\n",
        "\n",
        "**빅스비**\n",
        "\n",
        "지능형 검색엔진인 울프럼 알파를 적용하며 인공지능 딥 러닝 기능을 탑재했다.\n",
        "갤럭시 S8이상의 기기에서 사용가능함."
      ]
    },
    {
      "cell_type": "markdown",
      "metadata": {
        "id": "SgPqbKxlJ9eP",
        "colab_type": "text"
      },
      "source": [
        "# **이미지**\n",
        "\n",
        "**구글 포토, 보안검색대**\n",
        "\n",
        "오픈 이미지 데이터셋 이라는 컴퓨터 비전 연구 전용 데이터셋을 사용하며 회선신경망기술(CNN:Convolutional Nerual Network)를 사용한다.\n",
        "이용자가 올린 사진 속 사물에 대한 라벨(태그 같은 키워드 정보)을 추출해 의미를 파악한다\n",
        "\n",
        "이미지 인식 정확도를 높이려면 양질의 데이터를 학습시켜야 한다. 검색 데이터베이스(DB) 구축에서 확보한 방대한 이미지 데이터와 컴퓨터 비전 연구 전용 데이터셋 '오픈 이미지 데이터셋'을 활용했다. 구글, 카네기 멜론대, 코넬대가 공동 구축한 900만개가 넘는 이미지로 구성됐다. 이중 10만개는 인간이 직접 이미지 의미를 설명한 라벨링 작업을 거쳤다"
      ]
    },
    {
      "cell_type": "markdown",
      "metadata": {
        "id": "Rk2ib-wKKgMl",
        "colab_type": "text"
      },
      "source": [
        "# **자율주행**\n",
        "\n",
        "**웨이모 원 로보택시**\n",
        "자율주행 자동차가 스스로 주행하려면 인지 판단 제어 세가지 기능이 반드시 필요하다. 특히 카메라를 이용한 인지 분야에서 딥러닝은 가장 중요한 기술이다.\n",
        "카메라를 통해 입력된 이미지에 딥러닝을 적용해 나오는 정보를 검출, 분류할 수 있다.\n",
        "\n",
        "'엔드투엔드 자율주행'은 필요한 중간 기능 분류 없이 운전 과정 전체를 통째로 학습하는 딥러닝 방식이다. 새로운 운행 환경에 대해 추가기능을 다시 설계하거나 변경할 필요 없이 새로운 상황에 대한 데이터를 추가적으로 학습시키며 자율주행 시스템을 구현시킬수 있다."
      ]
    }
  ]
}